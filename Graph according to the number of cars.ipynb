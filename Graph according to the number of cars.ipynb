{
 "cells": [
  {
   "cell_type": "code",
   "execution_count": 36,
   "id": "0bd48b16",
   "metadata": {},
   "outputs": [],
   "source": [
    "import pandas as pd\n",
    "import matplotlib.pyplot as plt\n",
    "import seaborn as sns"
   ]
  },
  {
   "cell_type": "code",
   "execution_count": 3,
   "id": "13582132",
   "metadata": {},
   "outputs": [],
   "source": [
    "station = pd.read_csv('fin_station.csv')\n",
    "car = pd.read_csv('fin_car.csv')"
   ]
  },
  {
   "cell_type": "code",
   "execution_count": 4,
   "id": "204376a9",
   "metadata": {
    "scrolled": true
   },
   "outputs": [
    {
     "data": {
      "text/html": [
       "<div>\n",
       "<style scoped>\n",
       "    .dataframe tbody tr th:only-of-type {\n",
       "        vertical-align: middle;\n",
       "    }\n",
       "\n",
       "    .dataframe tbody tr th {\n",
       "        vertical-align: top;\n",
       "    }\n",
       "\n",
       "    .dataframe thead th {\n",
       "        text-align: right;\n",
       "    }\n",
       "</style>\n",
       "<table border=\"1\" class=\"dataframe\">\n",
       "  <thead>\n",
       "    <tr style=\"text-align: right;\">\n",
       "      <th></th>\n",
       "      <th>2010</th>\n",
       "      <th>2011</th>\n",
       "      <th>2012</th>\n",
       "      <th>2013</th>\n",
       "      <th>2014</th>\n",
       "      <th>2015</th>\n",
       "      <th>2016</th>\n",
       "      <th>2017</th>\n",
       "      <th>2018</th>\n",
       "      <th>2019</th>\n",
       "    </tr>\n",
       "  </thead>\n",
       "  <tbody>\n",
       "    <tr>\n",
       "      <th>0</th>\n",
       "      <td>537</td>\n",
       "      <td>543</td>\n",
       "      <td>530</td>\n",
       "      <td>462</td>\n",
       "      <td>1111</td>\n",
       "      <td>1030</td>\n",
       "      <td>720</td>\n",
       "      <td>727</td>\n",
       "      <td>999</td>\n",
       "      <td>864</td>\n",
       "    </tr>\n",
       "    <tr>\n",
       "      <th>1</th>\n",
       "      <td>7</td>\n",
       "      <td>22</td>\n",
       "      <td>85</td>\n",
       "      <td>59</td>\n",
       "      <td>60</td>\n",
       "      <td>100</td>\n",
       "      <td>189</td>\n",
       "      <td>442</td>\n",
       "      <td>1879</td>\n",
       "      <td>930</td>\n",
       "    </tr>\n",
       "  </tbody>\n",
       "</table>\n",
       "</div>"
      ],
      "text/plain": [
       "   2010  2011  2012  2013  2014  2015  2016  2017  2018  2019\n",
       "0   537   543   530   462  1111  1030   720   727   999   864\n",
       "1     7    22    85    59    60   100   189   442  1879   930"
      ]
     },
     "execution_count": 4,
     "metadata": {},
     "output_type": "execute_result"
    }
   ],
   "source": [
    "station"
   ]
  },
  {
   "cell_type": "code",
   "execution_count": 8,
   "id": "e81ea501",
   "metadata": {
    "scrolled": true
   },
   "outputs": [
    {
     "data": {
      "text/html": [
       "<div>\n",
       "<style scoped>\n",
       "    .dataframe tbody tr th:only-of-type {\n",
       "        vertical-align: middle;\n",
       "    }\n",
       "\n",
       "    .dataframe tbody tr th {\n",
       "        vertical-align: top;\n",
       "    }\n",
       "\n",
       "    .dataframe thead th {\n",
       "        text-align: right;\n",
       "    }\n",
       "</style>\n",
       "<table border=\"1\" class=\"dataframe\">\n",
       "  <thead>\n",
       "    <tr style=\"text-align: right;\">\n",
       "      <th></th>\n",
       "      <th>2010</th>\n",
       "      <th>2011</th>\n",
       "      <th>2012</th>\n",
       "      <th>2013</th>\n",
       "      <th>2014</th>\n",
       "      <th>2015</th>\n",
       "      <th>2016</th>\n",
       "      <th>2017</th>\n",
       "      <th>2018</th>\n",
       "      <th>2019</th>\n",
       "    </tr>\n",
       "  </thead>\n",
       "  <tbody>\n",
       "    <tr>\n",
       "      <th>주유소</th>\n",
       "      <td>537</td>\n",
       "      <td>543</td>\n",
       "      <td>530</td>\n",
       "      <td>462</td>\n",
       "      <td>1111</td>\n",
       "      <td>1030</td>\n",
       "      <td>720</td>\n",
       "      <td>727</td>\n",
       "      <td>999</td>\n",
       "      <td>864</td>\n",
       "    </tr>\n",
       "    <tr>\n",
       "      <th>충전소</th>\n",
       "      <td>7</td>\n",
       "      <td>22</td>\n",
       "      <td>85</td>\n",
       "      <td>59</td>\n",
       "      <td>60</td>\n",
       "      <td>100</td>\n",
       "      <td>189</td>\n",
       "      <td>442</td>\n",
       "      <td>1879</td>\n",
       "      <td>930</td>\n",
       "    </tr>\n",
       "  </tbody>\n",
       "</table>\n",
       "</div>"
      ],
      "text/plain": [
       "     2010  2011  2012  2013  2014  2015  2016  2017  2018  2019\n",
       "주유소   537   543   530   462  1111  1030   720   727   999   864\n",
       "충전소     7    22    85    59    60   100   189   442  1879   930"
      ]
     },
     "execution_count": 8,
     "metadata": {},
     "output_type": "execute_result"
    }
   ],
   "source": [
    "station = station.rename(index={0:'주유소', 1:'충전소'})\n",
    "station"
   ]
  },
  {
   "cell_type": "code",
   "execution_count": 24,
   "id": "21894c02",
   "metadata": {},
   "outputs": [
    {
     "data": {
      "text/html": [
       "<div>\n",
       "<style scoped>\n",
       "    .dataframe tbody tr th:only-of-type {\n",
       "        vertical-align: middle;\n",
       "    }\n",
       "\n",
       "    .dataframe tbody tr th {\n",
       "        vertical-align: top;\n",
       "    }\n",
       "\n",
       "    .dataframe thead th {\n",
       "        text-align: right;\n",
       "    }\n",
       "</style>\n",
       "<table border=\"1\" class=\"dataframe\">\n",
       "  <thead>\n",
       "    <tr style=\"text-align: right;\">\n",
       "      <th></th>\n",
       "      <th>주유소</th>\n",
       "      <th>충전소</th>\n",
       "    </tr>\n",
       "  </thead>\n",
       "  <tbody>\n",
       "    <tr>\n",
       "      <th>2010</th>\n",
       "      <td>537</td>\n",
       "      <td>7</td>\n",
       "    </tr>\n",
       "    <tr>\n",
       "      <th>2011</th>\n",
       "      <td>543</td>\n",
       "      <td>22</td>\n",
       "    </tr>\n",
       "    <tr>\n",
       "      <th>2012</th>\n",
       "      <td>530</td>\n",
       "      <td>85</td>\n",
       "    </tr>\n",
       "    <tr>\n",
       "      <th>2013</th>\n",
       "      <td>462</td>\n",
       "      <td>59</td>\n",
       "    </tr>\n",
       "    <tr>\n",
       "      <th>2014</th>\n",
       "      <td>1111</td>\n",
       "      <td>60</td>\n",
       "    </tr>\n",
       "    <tr>\n",
       "      <th>2015</th>\n",
       "      <td>1030</td>\n",
       "      <td>100</td>\n",
       "    </tr>\n",
       "    <tr>\n",
       "      <th>2016</th>\n",
       "      <td>720</td>\n",
       "      <td>189</td>\n",
       "    </tr>\n",
       "    <tr>\n",
       "      <th>2017</th>\n",
       "      <td>727</td>\n",
       "      <td>442</td>\n",
       "    </tr>\n",
       "    <tr>\n",
       "      <th>2018</th>\n",
       "      <td>999</td>\n",
       "      <td>1879</td>\n",
       "    </tr>\n",
       "    <tr>\n",
       "      <th>2019</th>\n",
       "      <td>864</td>\n",
       "      <td>930</td>\n",
       "    </tr>\n",
       "  </tbody>\n",
       "</table>\n",
       "</div>"
      ],
      "text/plain": [
       "       주유소   충전소\n",
       "2010   537     7\n",
       "2011   543    22\n",
       "2012   530    85\n",
       "2013   462    59\n",
       "2014  1111    60\n",
       "2015  1030   100\n",
       "2016   720   189\n",
       "2017   727   442\n",
       "2018   999  1879\n",
       "2019   864   930"
      ]
     },
     "execution_count": 24,
     "metadata": {},
     "output_type": "execute_result"
    }
   ],
   "source": [
    "station = station.transpose()\n",
    "station"
   ]
  },
  {
   "cell_type": "code",
   "execution_count": 5,
   "id": "d7bb5cba",
   "metadata": {},
   "outputs": [
    {
     "data": {
      "text/html": [
       "<div>\n",
       "<style scoped>\n",
       "    .dataframe tbody tr th:only-of-type {\n",
       "        vertical-align: middle;\n",
       "    }\n",
       "\n",
       "    .dataframe tbody tr th {\n",
       "        vertical-align: top;\n",
       "    }\n",
       "\n",
       "    .dataframe thead th {\n",
       "        text-align: right;\n",
       "    }\n",
       "</style>\n",
       "<table border=\"1\" class=\"dataframe\">\n",
       "  <thead>\n",
       "    <tr style=\"text-align: right;\">\n",
       "      <th></th>\n",
       "      <th>2010</th>\n",
       "      <th>2011</th>\n",
       "      <th>2012</th>\n",
       "      <th>2013</th>\n",
       "      <th>2014</th>\n",
       "      <th>2015</th>\n",
       "      <th>2016</th>\n",
       "      <th>2017</th>\n",
       "      <th>2018</th>\n",
       "      <th>2019</th>\n",
       "      <th>2020</th>\n",
       "    </tr>\n",
       "  </thead>\n",
       "  <tbody>\n",
       "    <tr>\n",
       "      <th>0</th>\n",
       "      <td>212079328</td>\n",
       "      <td>219196145</td>\n",
       "      <td>224135041</td>\n",
       "      <td>230189304</td>\n",
       "      <td>237674621</td>\n",
       "      <td>247047392</td>\n",
       "      <td>257452046</td>\n",
       "      <td>266481596</td>\n",
       "      <td>274602415</td>\n",
       "      <td>280998131</td>\n",
       "      <td>287398494</td>\n",
       "    </tr>\n",
       "    <tr>\n",
       "      <th>1</th>\n",
       "      <td>234</td>\n",
       "      <td>1482</td>\n",
       "      <td>4705</td>\n",
       "      <td>5411</td>\n",
       "      <td>14150</td>\n",
       "      <td>33375</td>\n",
       "      <td>51866</td>\n",
       "      <td>76786</td>\n",
       "      <td>215227</td>\n",
       "      <td>607059</td>\n",
       "      <td>1041898</td>\n",
       "    </tr>\n",
       "  </tbody>\n",
       "</table>\n",
       "</div>"
      ],
      "text/plain": [
       "        2010       2011       2012       2013       2014       2015  \\\n",
       "0  212079328  219196145  224135041  230189304  237674621  247047392   \n",
       "1        234       1482       4705       5411      14150      33375   \n",
       "\n",
       "        2016       2017       2018       2019       2020  \n",
       "0  257452046  266481596  274602415  280998131  287398494  \n",
       "1      51866      76786     215227     607059    1041898  "
      ]
     },
     "execution_count": 5,
     "metadata": {},
     "output_type": "execute_result"
    }
   ],
   "source": [
    "car"
   ]
  },
  {
   "cell_type": "code",
   "execution_count": 9,
   "id": "f1f56ebf",
   "metadata": {
    "scrolled": true
   },
   "outputs": [
    {
     "data": {
      "text/html": [
       "<div>\n",
       "<style scoped>\n",
       "    .dataframe tbody tr th:only-of-type {\n",
       "        vertical-align: middle;\n",
       "    }\n",
       "\n",
       "    .dataframe tbody tr th {\n",
       "        vertical-align: top;\n",
       "    }\n",
       "\n",
       "    .dataframe thead th {\n",
       "        text-align: right;\n",
       "    }\n",
       "</style>\n",
       "<table border=\"1\" class=\"dataframe\">\n",
       "  <thead>\n",
       "    <tr style=\"text-align: right;\">\n",
       "      <th></th>\n",
       "      <th>2010</th>\n",
       "      <th>2011</th>\n",
       "      <th>2012</th>\n",
       "      <th>2013</th>\n",
       "      <th>2014</th>\n",
       "      <th>2015</th>\n",
       "      <th>2016</th>\n",
       "      <th>2017</th>\n",
       "      <th>2018</th>\n",
       "      <th>2019</th>\n",
       "      <th>2020</th>\n",
       "    </tr>\n",
       "  </thead>\n",
       "  <tbody>\n",
       "    <tr>\n",
       "      <th>일반차</th>\n",
       "      <td>212079328</td>\n",
       "      <td>219196145</td>\n",
       "      <td>224135041</td>\n",
       "      <td>230189304</td>\n",
       "      <td>237674621</td>\n",
       "      <td>247047392</td>\n",
       "      <td>257452046</td>\n",
       "      <td>266481596</td>\n",
       "      <td>274602415</td>\n",
       "      <td>280998131</td>\n",
       "      <td>287398494</td>\n",
       "    </tr>\n",
       "    <tr>\n",
       "      <th>전기차</th>\n",
       "      <td>234</td>\n",
       "      <td>1482</td>\n",
       "      <td>4705</td>\n",
       "      <td>5411</td>\n",
       "      <td>14150</td>\n",
       "      <td>33375</td>\n",
       "      <td>51866</td>\n",
       "      <td>76786</td>\n",
       "      <td>215227</td>\n",
       "      <td>607059</td>\n",
       "      <td>1041898</td>\n",
       "    </tr>\n",
       "  </tbody>\n",
       "</table>\n",
       "</div>"
      ],
      "text/plain": [
       "          2010       2011       2012       2013       2014       2015  \\\n",
       "일반차  212079328  219196145  224135041  230189304  237674621  247047392   \n",
       "전기차        234       1482       4705       5411      14150      33375   \n",
       "\n",
       "          2016       2017       2018       2019       2020  \n",
       "일반차  257452046  266481596  274602415  280998131  287398494  \n",
       "전기차      51866      76786     215227     607059    1041898  "
      ]
     },
     "execution_count": 9,
     "metadata": {},
     "output_type": "execute_result"
    }
   ],
   "source": [
    "car = car.rename(index={0:'일반차', 1:'전기차'})\n",
    "car"
   ]
  },
  {
   "cell_type": "code",
   "execution_count": 26,
   "id": "1388688e",
   "metadata": {},
   "outputs": [
    {
     "data": {
      "text/html": [
       "<div>\n",
       "<style scoped>\n",
       "    .dataframe tbody tr th:only-of-type {\n",
       "        vertical-align: middle;\n",
       "    }\n",
       "\n",
       "    .dataframe tbody tr th {\n",
       "        vertical-align: top;\n",
       "    }\n",
       "\n",
       "    .dataframe thead th {\n",
       "        text-align: right;\n",
       "    }\n",
       "</style>\n",
       "<table border=\"1\" class=\"dataframe\">\n",
       "  <thead>\n",
       "    <tr style=\"text-align: right;\">\n",
       "      <th></th>\n",
       "      <th>일반차</th>\n",
       "      <th>전기차</th>\n",
       "    </tr>\n",
       "  </thead>\n",
       "  <tbody>\n",
       "    <tr>\n",
       "      <th>2010</th>\n",
       "      <td>212079328</td>\n",
       "      <td>234</td>\n",
       "    </tr>\n",
       "    <tr>\n",
       "      <th>2011</th>\n",
       "      <td>219196145</td>\n",
       "      <td>1482</td>\n",
       "    </tr>\n",
       "    <tr>\n",
       "      <th>2012</th>\n",
       "      <td>224135041</td>\n",
       "      <td>4705</td>\n",
       "    </tr>\n",
       "    <tr>\n",
       "      <th>2013</th>\n",
       "      <td>230189304</td>\n",
       "      <td>5411</td>\n",
       "    </tr>\n",
       "    <tr>\n",
       "      <th>2014</th>\n",
       "      <td>237674621</td>\n",
       "      <td>14150</td>\n",
       "    </tr>\n",
       "    <tr>\n",
       "      <th>2015</th>\n",
       "      <td>247047392</td>\n",
       "      <td>33375</td>\n",
       "    </tr>\n",
       "    <tr>\n",
       "      <th>2016</th>\n",
       "      <td>257452046</td>\n",
       "      <td>51866</td>\n",
       "    </tr>\n",
       "    <tr>\n",
       "      <th>2017</th>\n",
       "      <td>266481596</td>\n",
       "      <td>76786</td>\n",
       "    </tr>\n",
       "    <tr>\n",
       "      <th>2018</th>\n",
       "      <td>274602415</td>\n",
       "      <td>215227</td>\n",
       "    </tr>\n",
       "    <tr>\n",
       "      <th>2019</th>\n",
       "      <td>280998131</td>\n",
       "      <td>607059</td>\n",
       "    </tr>\n",
       "    <tr>\n",
       "      <th>2020</th>\n",
       "      <td>287398494</td>\n",
       "      <td>1041898</td>\n",
       "    </tr>\n",
       "  </tbody>\n",
       "</table>\n",
       "</div>"
      ],
      "text/plain": [
       "            일반차      전기차\n",
       "2010  212079328      234\n",
       "2011  219196145     1482\n",
       "2012  224135041     4705\n",
       "2013  230189304     5411\n",
       "2014  237674621    14150\n",
       "2015  247047392    33375\n",
       "2016  257452046    51866\n",
       "2017  266481596    76786\n",
       "2018  274602415   215227\n",
       "2019  280998131   607059\n",
       "2020  287398494  1041898"
      ]
     },
     "execution_count": 26,
     "metadata": {},
     "output_type": "execute_result"
    }
   ],
   "source": [
    "car = car.transpose()\n",
    "car"
   ]
  },
  {
   "cell_type": "code",
   "execution_count": 33,
   "id": "c9d3e2fe",
   "metadata": {},
   "outputs": [
    {
     "data": {
      "text/html": [
       "<div>\n",
       "<style scoped>\n",
       "    .dataframe tbody tr th:only-of-type {\n",
       "        vertical-align: middle;\n",
       "    }\n",
       "\n",
       "    .dataframe tbody tr th {\n",
       "        vertical-align: top;\n",
       "    }\n",
       "\n",
       "    .dataframe thead th {\n",
       "        text-align: right;\n",
       "    }\n",
       "</style>\n",
       "<table border=\"1\" class=\"dataframe\">\n",
       "  <thead>\n",
       "    <tr style=\"text-align: right;\">\n",
       "      <th></th>\n",
       "      <th>일반차</th>\n",
       "      <th>전기차</th>\n",
       "    </tr>\n",
       "  </thead>\n",
       "  <tbody>\n",
       "    <tr>\n",
       "      <th>2010</th>\n",
       "      <td>212079328</td>\n",
       "      <td>234</td>\n",
       "    </tr>\n",
       "    <tr>\n",
       "      <th>2011</th>\n",
       "      <td>219196145</td>\n",
       "      <td>1482</td>\n",
       "    </tr>\n",
       "    <tr>\n",
       "      <th>2012</th>\n",
       "      <td>224135041</td>\n",
       "      <td>4705</td>\n",
       "    </tr>\n",
       "    <tr>\n",
       "      <th>2013</th>\n",
       "      <td>230189304</td>\n",
       "      <td>5411</td>\n",
       "    </tr>\n",
       "    <tr>\n",
       "      <th>2014</th>\n",
       "      <td>237674621</td>\n",
       "      <td>14150</td>\n",
       "    </tr>\n",
       "    <tr>\n",
       "      <th>2015</th>\n",
       "      <td>247047392</td>\n",
       "      <td>33375</td>\n",
       "    </tr>\n",
       "    <tr>\n",
       "      <th>2016</th>\n",
       "      <td>257452046</td>\n",
       "      <td>51866</td>\n",
       "    </tr>\n",
       "    <tr>\n",
       "      <th>2017</th>\n",
       "      <td>266481596</td>\n",
       "      <td>76786</td>\n",
       "    </tr>\n",
       "    <tr>\n",
       "      <th>2018</th>\n",
       "      <td>274602415</td>\n",
       "      <td>215227</td>\n",
       "    </tr>\n",
       "    <tr>\n",
       "      <th>2019</th>\n",
       "      <td>280998131</td>\n",
       "      <td>607059</td>\n",
       "    </tr>\n",
       "  </tbody>\n",
       "</table>\n",
       "</div>"
      ],
      "text/plain": [
       "            일반차     전기차\n",
       "2010  212079328     234\n",
       "2011  219196145    1482\n",
       "2012  224135041    4705\n",
       "2013  230189304    5411\n",
       "2014  237674621   14150\n",
       "2015  247047392   33375\n",
       "2016  257452046   51866\n",
       "2017  266481596   76786\n",
       "2018  274602415  215227\n",
       "2019  280998131  607059"
      ]
     },
     "execution_count": 33,
     "metadata": {},
     "output_type": "execute_result"
    }
   ],
   "source": [
    "car = car.drop('2020', axis=0)\n",
    "car"
   ]
  },
  {
   "cell_type": "code",
   "execution_count": 143,
   "id": "3aca75f6",
   "metadata": {},
   "outputs": [
    {
     "data": {
      "text/plain": [
       "Text(0.5, 1.0, 'Comparison of the number of Gas stations/Charging stations by year')"
      ]
     },
     "execution_count": 143,
     "metadata": {},
     "output_type": "execute_result"
    },
    {
     "data": {
      "image/png": "[encoded data removed]",
      "text/plain": [
       "<Figure size 864x288 with 1 Axes>"
      ]
     },
     "metadata": {
      "needs_background": "light"
     },
     "output_type": "display_data"
    }
   ],
   "source": [
    "# 연도별 주유\n",
    "copy_station = station.transpose().copy()\n",
    "\n",
    "colors = sns.color_palette('RdPu')\n",
    "ax1 = copy_station.plot(kind='bar', title='station', figsize=(12,4), color=colors, legend=True)\n",
    "plt.xticks(rotation=0)\n",
    "plt.title(\"Comparison of the number of Gas stations/Charging stations by year\")"
   ]
  },
  {
   "cell_type": "code",
   "execution_count": 114,
   "id": "b56b5231",
   "metadata": {},
   "outputs": [
    {
     "data": {
      "text/html": [
       "<div>\n",
       "<style scoped>\n",
       "    .dataframe tbody tr th:only-of-type {\n",
       "        vertical-align: middle;\n",
       "    }\n",
       "\n",
       "    .dataframe tbody tr th {\n",
       "        vertical-align: top;\n",
       "    }\n",
       "\n",
       "    .dataframe thead th {\n",
       "        text-align: right;\n",
       "    }\n",
       "</style>\n",
       "<table border=\"1\" class=\"dataframe\">\n",
       "  <thead>\n",
       "    <tr style=\"text-align: right;\">\n",
       "      <th></th>\n",
       "      <th>일반차</th>\n",
       "      <th>전기차</th>\n",
       "    </tr>\n",
       "  </thead>\n",
       "  <tbody>\n",
       "    <tr>\n",
       "      <th>count</th>\n",
       "      <td>1.000000e+01</td>\n",
       "      <td>10.000000</td>\n",
       "    </tr>\n",
       "    <tr>\n",
       "      <th>mean</th>\n",
       "      <td>2.449856e+08</td>\n",
       "      <td>101029.500000</td>\n",
       "    </tr>\n",
       "    <tr>\n",
       "      <th>std</th>\n",
       "      <td>2.415424e+07</td>\n",
       "      <td>189363.742925</td>\n",
       "    </tr>\n",
       "    <tr>\n",
       "      <th>min</th>\n",
       "      <td>2.120793e+08</td>\n",
       "      <td>234.000000</td>\n",
       "    </tr>\n",
       "    <tr>\n",
       "      <th>25%</th>\n",
       "      <td>2.256486e+08</td>\n",
       "      <td>4881.500000</td>\n",
       "    </tr>\n",
       "    <tr>\n",
       "      <th>50%</th>\n",
       "      <td>2.423610e+08</td>\n",
       "      <td>23762.500000</td>\n",
       "    </tr>\n",
       "    <tr>\n",
       "      <th>75%</th>\n",
       "      <td>2.642242e+08</td>\n",
       "      <td>70556.000000</td>\n",
       "    </tr>\n",
       "    <tr>\n",
       "      <th>max</th>\n",
       "      <td>2.809981e+08</td>\n",
       "      <td>607059.000000</td>\n",
       "    </tr>\n",
       "  </tbody>\n",
       "</table>\n",
       "</div>"
      ],
      "text/plain": [
       "                일반차            전기차\n",
       "count  1.000000e+01      10.000000\n",
       "mean   2.449856e+08  101029.500000\n",
       "std    2.415424e+07  189363.742925\n",
       "min    2.120793e+08     234.000000\n",
       "25%    2.256486e+08    4881.500000\n",
       "50%    2.423610e+08   23762.500000\n",
       "75%    2.642242e+08   70556.000000\n",
       "max    2.809981e+08  607059.000000"
      ]
     },
     "execution_count": 114,
     "metadata": {},
     "output_type": "execute_result"
    }
   ],
   "source": [
    "car.describe()"
   ]
  },
  {
   "cell_type": "code",
   "execution_count": 113,
   "id": "39d316ee",
   "metadata": {},
   "outputs": [
    {
     "data": {
      "text/html": [
       "<div>\n",
       "<style scoped>\n",
       "    .dataframe tbody tr th:only-of-type {\n",
       "        vertical-align: middle;\n",
       "    }\n",
       "\n",
       "    .dataframe tbody tr th {\n",
       "        vertical-align: top;\n",
       "    }\n",
       "\n",
       "    .dataframe thead th {\n",
       "        text-align: right;\n",
       "    }\n",
       "</style>\n",
       "<table border=\"1\" class=\"dataframe\">\n",
       "  <thead>\n",
       "    <tr style=\"text-align: right;\">\n",
       "      <th></th>\n",
       "      <th>주유소</th>\n",
       "      <th>충전소</th>\n",
       "    </tr>\n",
       "  </thead>\n",
       "  <tbody>\n",
       "    <tr>\n",
       "      <th>count</th>\n",
       "      <td>10.000000</td>\n",
       "      <td>10.000000</td>\n",
       "    </tr>\n",
       "    <tr>\n",
       "      <th>mean</th>\n",
       "      <td>752.300000</td>\n",
       "      <td>377.300000</td>\n",
       "    </tr>\n",
       "    <tr>\n",
       "      <th>std</th>\n",
       "      <td>236.797171</td>\n",
       "      <td>598.879704</td>\n",
       "    </tr>\n",
       "    <tr>\n",
       "      <th>min</th>\n",
       "      <td>462.000000</td>\n",
       "      <td>7.000000</td>\n",
       "    </tr>\n",
       "    <tr>\n",
       "      <th>25%</th>\n",
       "      <td>538.500000</td>\n",
       "      <td>59.250000</td>\n",
       "    </tr>\n",
       "    <tr>\n",
       "      <th>50%</th>\n",
       "      <td>723.500000</td>\n",
       "      <td>92.500000</td>\n",
       "    </tr>\n",
       "    <tr>\n",
       "      <th>75%</th>\n",
       "      <td>965.250000</td>\n",
       "      <td>378.750000</td>\n",
       "    </tr>\n",
       "    <tr>\n",
       "      <th>max</th>\n",
       "      <td>1111.000000</td>\n",
       "      <td>1879.000000</td>\n",
       "    </tr>\n",
       "  </tbody>\n",
       "</table>\n",
       "</div>"
      ],
      "text/plain": [
       "               주유소          충전소\n",
       "count    10.000000    10.000000\n",
       "mean    752.300000   377.300000\n",
       "std     236.797171   598.879704\n",
       "min     462.000000     7.000000\n",
       "25%     538.500000    59.250000\n",
       "50%     723.500000    92.500000\n",
       "75%     965.250000   378.750000\n",
       "max    1111.000000  1879.000000"
      ]
     },
     "execution_count": 113,
     "metadata": {},
     "output_type": "execute_result"
    }
   ],
   "source": [
    "station.describe()"
   ]
  },
  {
   "cell_type": "code",
   "execution_count": 155,
   "id": "c5066758",
   "metadata": {},
   "outputs": [
    {
     "data": {
      "text/plain": [
       "<matplotlib.legend.Legend at 0x21d8845e8e0>"
      ]
     },
     "execution_count": 155,
     "metadata": {},
     "output_type": "execute_result"
    },
    {
     "data": {
      "image/png": "[encoded data removed]",
      "text/plain": [
       "<Figure size 864x720 with 4 Axes>"
      ]
     },
     "metadata": {
      "needs_background": "light"
     },
     "output_type": "display_data"
    }
   ],
   "source": [
    "'''\n",
    "plt.subplot(2,1,1)\n",
    "car['일반차'].plot(kind='bar')\n",
    "station['주유소'].plot(kind='line')\n",
    "'''\n",
    "fig = plt.figure(figsize=(12,10))\n",
    "\n",
    "plt.subplot(2,1,1)\n",
    "ax1 = car['일반차'].plot(kind='bar', color='skyblue')\n",
    "plt.xticks(rotation=0)\n",
    "plt.ylim(200000000,290000000)\n",
    "ax2 = ax1.twinx()\n",
    "ax2 = station['주유소'].plot(kind='line', color='blue', marker='s')\n",
    "plt.title(\"Number of Gas stations based on the number of General vehicles\", fontsize=15)\n",
    "fig.legend(loc='upper right')\n",
    "\n",
    "plt.subplots_adjust(left=0.125, bottom=0.1,  right=0.9, top=0.9, wspace=0.2, hspace=0.35)\n",
    "\n",
    "plt.subplot(2,1,2)\n",
    "ax3 = car['전기차'].plot(kind='bar', color='pink')\n",
    "plt.xticks(rotation=0)\n",
    "plt.ylim(100,700000)\n",
    "ax4 = ax3.twinx()\n",
    "ax4 = station['충전소'].plot(kind='line', color='red', marker='s')\n",
    "plt.title(\"Number of Charging stations based on the number of Electric vehicles\", fontsize=15)\n",
    "fig.legend(loc='upper right')"
   ]
  },
  {
   "cell_type": "code",
   "execution_count": 77,
   "id": "d1f407d0",
   "metadata": {},
   "outputs": [
    {
     "name": "stderr",
     "output_type": "stream",
     "text": [
      "No handles with labels found to put in legend.\n"
     ]
    },
    {
     "data": {
      "text/plain": [
       "<matplotlib.legend.Legend at 0x21dfaff4670>"
      ]
     },
     "execution_count": 77,
     "metadata": {},
     "output_type": "execute_result"
    },
    {
     "data": {
      "image/png": "[encoded data removed]",
      "text/plain": [
       "<Figure size 432x288 with 1 Axes>"
      ]
     },
     "metadata": {
      "needs_background": "light"
     },
     "output_type": "display_data"
    },
    {
     "data": {
      "image/png": "[encoded data removed]",
      "text/plain": [
       "<Figure size 864x720 with 2 Axes>"
      ]
     },
     "metadata": {
      "needs_background": "light"
     },
     "output_type": "display_data"
    }
   ],
   "source": [
    "'''ax1 = car.plot(kind='bar',figsize=(12,10))\n",
    "\n",
    "ax2 = ax1.twinx()\n",
    "ax2.plot(station.index, station.values)'''\n",
    "\n",
    "fig, ax1 = plt.subplots()\n",
    "ax1 = station.plot(kind='bar',figsize=(12,10))\n",
    "\n",
    "ax2 = ax1.twinx()\n",
    "ax2.plot(car.index, car.values)\n",
    "ax2.legend()"
   ]
  },
  {
   "cell_type": "code",
   "execution_count": null,
   "id": "273a231b",
   "metadata": {},
   "outputs": [],
   "source": []
  }
 ],
 "metadata": {
  "kernelspec": {
   "display_name": "Python 3",
   "language": "python",
   "name": "python3"
  },
  "language_info": {
   "codemirror_mode": {
    "name": "ipython",
    "version": 3
   },
   "file_extension": ".py",
   "mimetype": "text/x-python",
   "name": "python",
   "nbconvert_exporter": "python",
   "pygments_lexer": "ipython3",
   "version": "3.8.8"
  }
 },
 "nbformat": 4,
 "nbformat_minor": 5
}
